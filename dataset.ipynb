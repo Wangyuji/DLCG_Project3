{
 "cells": [
  {
   "cell_type": "code",
   "execution_count": 3,
   "id": "ce3bb0a2",
   "metadata": {},
   "outputs": [],
   "source": [
    "import torch\n",
    "from torch.utils.data import Dataset\n",
    "import os\n",
    "import json\n",
    "from PIL import Image\n",
    "from torchvision import transforms"
   ]
  },
  {
   "cell_type": "code",
   "execution_count": 4,
   "id": "3cbf0b90",
   "metadata": {},
   "outputs": [],
   "source": [
    "transform = transforms.Compose([transforms.RandomCrop(96),\n",
    "                            transforms.ToTensor()]) "
   ]
  },
  {
   "cell_type": "code",
   "execution_count": 9,
   "id": "88c16fd9",
   "metadata": {},
   "outputs": [],
   "source": [
    "class dataSet(Dataset):\n",
    "    \n",
    "    def _init_(self, dataPath, dataType, factor, low_img, high_img, transforms = transform):\n",
    "        \"\"\"\n",
    "        :dataPath = json file\n",
    "        :dataType = train or test\n",
    "        :factor = the factor for scaling\n",
    "        :low/high = low or high resolution\n",
    "        \n",
    "        \"\"\"\n",
    "        \n",
    "        self.dataPath = dataPath\n",
    "        self.dataType = dataType\n",
    "        self.factor = int(factor)\n",
    "        self.low_img = low_img\n",
    "        self.high_img = high_img\n",
    "        \n",
    "        if self.dataType == 'train':\n",
    "            with open(os.path.join(dataPath, 'train_images.json'), 'r') as f:\n",
    "                self.imgs = json.load(f)\n",
    "        else:\n",
    "            with open(os.path.join(dataPath, 'test_images.json'), 'r') as f:\n",
    "                self.imgs = json.load(f)\n",
    "                \n",
    "    #get img's lenth  \n",
    "    def __len__(self):\n",
    "        return len(self.imgs)\n",
    "    \n",
    "    #get item\n",
    "    def __getitem__(self,index):\n",
    "        tmpImg = Image.open(self.imgs[index], mode = 'r')\n",
    "        tmpImg = img.covert('RGB')\n",
    "\n",
    "        result = self.transforms(tmpImg)\n",
    "        cropResult = torch.nn.MaxPool2d(result)\n",
    "        return result, cropResult"
   ]
  },
  {
   "cell_type": "code",
   "execution_count": null,
   "id": "dbd55b66",
   "metadata": {},
   "outputs": [],
   "source": []
  }
 ],
 "metadata": {
  "kernelspec": {
   "display_name": "Python 3 (ipykernel)",
   "language": "python",
   "name": "python3"
  },
  "language_info": {
   "codemirror_mode": {
    "name": "ipython",
    "version": 3
   },
   "file_extension": ".py",
   "mimetype": "text/x-python",
   "name": "python",
   "nbconvert_exporter": "python",
   "pygments_lexer": "ipython3",
   "version": "3.9.13"
  }
 },
 "nbformat": 4,
 "nbformat_minor": 5
}
