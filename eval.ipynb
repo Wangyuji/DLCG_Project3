{
 "cells": [
  {
   "cell_type": "code",
   "execution_count": 24,
   "id": "9a726cf6",
   "metadata": {},
   "outputs": [],
   "source": [
    "import torch\n",
    "from torch import nn\n",
    "from myModel import SRResNet\n",
    "from myDataset import dataSet\n",
    "from torch.utils.data import DataLoader\n",
    "import torch.optim as optim\n",
    "from tqdm import tqdm\n",
    "from mydataList1 import genDataList\n",
    "import numpy as np\n",
    "\n",
    "from PIL import Image\n",
    "from skimage.metrics import peak_signal_noise_ratio, structural_similarity"
   ]
  },
  {
   "cell_type": "code",
   "execution_count": 25,
   "id": "db1f2233",
   "metadata": {},
   "outputs": [
    {
     "name": "stdout",
     "output_type": "stream",
     "text": [
      "Loading datasets....\n",
      "size of test set 19 \n",
      "\n",
      "Load complete\n",
      "all the things save in output folder\n"
     ]
    }
   ],
   "source": [
    "genDataList(t_sets=['./Set5', './Set14'], dataType='test', output = './output')\n",
    "#genDataList(train_sets=['./BSDS100', './Urban100'], test_sets=['./Set5', './Set14'], output = './output')"
   ]
  },
  {
   "cell_type": "code",
   "execution_count": 26,
   "id": "919a5886",
   "metadata": {},
   "outputs": [],
   "source": [
    "device = torch.device(\"cuda\" if torch.cuda.is_available() else \"cpu\")\n",
    "dataPath = './output/'\n",
    "rgb_weights = torch.FloatTensor([65.481, 128.553, 24.966]).to(device)\n",
    "\n",
    "import time\n",
    "\n",
    "\n",
    "def runEval():\n",
    "    SRnet = SRResNet()\n",
    "    SRnet =  SRnet.to(device)\n",
    "    loss_fn = nn.MSELoss()\n",
    "    #loss_function = nn.MSELoss().to(device) \n",
    "    \n",
    "    if torch.cuda.is_available():\n",
    "        SRnet = nn.DataParallel(SRnet, device_ids=list(range(2)))\n",
    "    \n",
    "    test_dataset = dataSet(dataPath=dataPath, dataType='test')\n",
    "    train_loader = DataLoader(test_dataset,batch_size=64)\n",
    "    \n",
    "    PSNRs = 0.0\n",
    "    SSIMs = 0.0\n",
    "    sumP = 0.0\n",
    "    SRnet.eval()\n",
    "    start_t = time.time()\n",
    "        \n",
    "    with torch.no_grad():\n",
    "        for i,(result, cropResult) in tqdm(enumerate(train_loader,1)):\n",
    "            result = result.to(device)\n",
    "            cropResult = cropResult.to(device)\n",
    "            \n",
    "            #forward \n",
    "            next_imgs = SRnet(cropResult)\n",
    "            \n",
    "            #calculate PSNR and SSIM\n",
    "            c_next = next_imgs.squeeze(0)\n",
    "            c_result = result.squeeze(0)\n",
    "            \n",
    "            psnr = peak_signal_noise_ratio(c_result.cpu().numpy(), c_next.cpu().numpy(),data_range=255.)\n",
    "            \n",
    "            #ssim = structural_similarity(result.cpu().numpy(), c_next.type(torch.uint8).detach().cpu().numpy(),in_size=None,data_range=255.)\n",
    "    \n",
    "            count = 1\n",
    "            sumP += psnr\n",
    "            #sumS += ssim\n",
    "            count+=1\n",
    "            avgP = sumP/count\n",
    "            #avgS = sumS/count\n",
    "    \n",
    "    print(avgP)\n",
    "    #print('SSIM  {ssims.avg:.3f}'.format(ssims=SSIMs))\n",
    "    print('平均单张样本用时  {:.3f} 秒'.format((time.time()-start_t)/len(test_dataset)))\n",
    "\n"
   ]
  },
  {
   "cell_type": "code",
   "execution_count": 27,
   "id": "a945ebf2",
   "metadata": {},
   "outputs": [
    {
     "name": "stderr",
     "output_type": "stream",
     "text": [
      "1it [00:00,  1.27it/s]"
     ]
    },
    {
     "name": "stdout",
     "output_type": "stream",
     "text": [
      "26.63608307761372\n",
      "平均单张样本用时  0.042 秒\n"
     ]
    },
    {
     "name": "stderr",
     "output_type": "stream",
     "text": [
      "\n"
     ]
    }
   ],
   "source": [
    "runEval()"
   ]
  },
  {
   "cell_type": "code",
   "execution_count": 28,
   "id": "7ac1197c",
   "metadata": {},
   "outputs": [],
   "source": [
    "imgPath = './output/me4.jpg'\n",
    "scaleNum = 4\n",
    "from torchvision import transforms\n",
    "\n",
    "std = [0.229, 0.224, 0.225]\n",
    "mean = [0.485, 0.456, 0.406]\n",
    "\n",
    "std_t = torch.FloatTensor(std)\n",
    "std_t = std_t.unsqueeze(1).unsqueeze(2)\n",
    "mean_t = torch.FloatTensor(mean)\n",
    "mean_t = mean_t.unsqueeze(1).unsqueeze(2)\n",
    "\n",
    "def runTest():\n",
    "    SRnet = SRResNet()\n",
    "    SRnet =  SRnet.to(device)\n",
    "    SRnet.eval()\n",
    "    \n",
    "    img = Image.open(imgPath, mode='r')\n",
    "    img = img.convert('RGB')\n",
    "    \n",
    "    newWidth = img.width * scaleNum\n",
    "    newHeihgt = img.height * scaleNum\n",
    "    Bicubic_img = img.resize((int(newWidth),int(newHeihgt)),Image.BICUBIC)\n",
    "    Bicubic_img.save('./output/result.jpg')\n",
    "    \n",
    "    transform = transforms.Compose([transforms.ToTensor()]) \n",
    "    lowRate = transform(img)\n",
    "    \n",
    "    #if lowRate.ndimension() == 3:\n",
    "        #print('adfa')\n",
    "    lowRate = (lowRate-mean_t)/std_t\n",
    "    lowRate.unsqueeze_(0)\n",
    "    \n",
    "    start_t = time.time()\n",
    "    lowRate = lowRate.to(device)\n",
    "    \n",
    "    with torch.no_grad():\n",
    "        result = SRnet(lowRate).squeeze(0).cpu().detach()\n",
    "        result = transforms.ToPILImage()(result).convert('RGB')\n",
    "        result.save('./output/result_srr.jpg')"
   ]
  },
  {
   "cell_type": "code",
   "execution_count": 29,
   "id": "17c363d4",
   "metadata": {},
   "outputs": [
    {
     "name": "stderr",
     "output_type": "stream",
     "text": [
      "C:\\Users\\14044\\AppData\\Local\\Temp\\ipykernel_14784\\3561058132.py:23: DeprecationWarning: BICUBIC is deprecated and will be removed in Pillow 10 (2023-07-01). Use Resampling.BICUBIC instead.\n",
      "  Bicubic_img = img.resize((int(newWidth),int(newHeihgt)),Image.BICUBIC)\n"
     ]
    }
   ],
   "source": [
    "runTest()"
   ]
  },
  {
   "cell_type": "code",
   "execution_count": null,
   "id": "a6d3db44",
   "metadata": {},
   "outputs": [],
   "source": []
  }
 ],
 "metadata": {
  "kernelspec": {
   "display_name": "Python 3 (ipykernel)",
   "language": "python",
   "name": "python3"
  },
  "language_info": {
   "codemirror_mode": {
    "name": "ipython",
    "version": 3
   },
   "file_extension": ".py",
   "mimetype": "text/x-python",
   "name": "python",
   "nbconvert_exporter": "python",
   "pygments_lexer": "ipython3",
   "version": "3.9.13"
  }
 },
 "nbformat": 4,
 "nbformat_minor": 5
}
