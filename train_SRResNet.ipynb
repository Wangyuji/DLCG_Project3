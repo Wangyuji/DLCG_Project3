{
 "cells": [
  {
   "cell_type": "code",
   "execution_count": 18,
   "id": "f93ab027",
   "metadata": {},
   "outputs": [],
   "source": [
    "import torch\n",
    "from torch import nn\n",
    "from myModel import SRResNet\n",
    "from myDataset import dataSet\n",
    "from torch.utils.data import DataLoader\n",
    "import torch.optim as optim\n",
    "from tqdm import tqdm\n",
    "from torch.utils.tensorboard import SummaryWriter\n",
    "from torchvision.utils import make_grid\n",
    "import numpy as np\n"
   ]
  },
  {
   "cell_type": "code",
   "execution_count": 19,
   "id": "797730e6",
   "metadata": {},
   "outputs": [],
   "source": [
    "device = torch.device(\"cuda\" if torch.cuda.is_available() else \"cpu\")\n",
    "dataPath = './output/'\n",
    "writer = SummaryWriter()\n",
    "\n",
    "def run():\n",
    "    SRnet = SRResNet()\n",
    "    \n",
    "    SRnet =  SRnet.to(device)\n",
    "    loss_function = nn.MSELoss().to(device) \n",
    "    optimizer = optim.Adam(SRnet.parameters(),lr=0.001) \n",
    "    \n",
    "    train_dataset = dataSet(dataPath=dataPath, dataType='train')\n",
    "    train_loader = DataLoader(train_dataset,batch_size=64)\n",
    "    \n",
    "    Epoches = 50\n",
    "    for epoch in range(Epoches):\n",
    "        SRnet.train()\n",
    "        total_loss = 0.0\n",
    "    \n",
    "    \n",
    "        #n_iter = len(train_loader)\n",
    "        #print(n_iter)\n",
    "        \n",
    "        for i,(result, cropResult) in tqdm(enumerate(train_loader,1)):\n",
    "            result = result.to(device)\n",
    "            cropResult = cropResult.to(device)\n",
    "            #print(i)\n",
    "            \n",
    "            #forward \n",
    "            next_imgs = SRnet(cropResult)\n",
    "            \n",
    "            #calculate loss\n",
    "            loss = loss_function(next_imgs,result)\n",
    "            #backward\n",
    "            optimizer.zero_grad()\n",
    "            loss.backward()\n",
    "            #renew model\n",
    "            optimizer.step()\n",
    "            \n",
    "            total_loss += loss.item()\n",
    "            \n",
    "            \n",
    "            if i == 4:\n",
    "                writer.add_image('SRResNet/epoch_'+str(epoch)+'_1', make_grid(cropResult[:4,:3,:,:].cpu(), nrow=4, normalize=True),epoch)\n",
    "                writer.add_image('SRResNet/epoch_'+str(epoch)+'_2', make_grid(next_imgs[:4,:3,:,:].cpu(), nrow=4, normalize=True),epoch)\n",
    "                writer.add_image('SRResNet/epoch_'+str(epoch)+'_3', make_grid(result[:4,:3,:,:].cpu(), nrow=4, normalize=True),epoch)\n",
    "            \n",
    "            \n",
    "\n",
    "\n",
    "            \n",
    "        average_lose = total_loss/(i+1)\n",
    "        writer.add_scalar('SRResNet/MSE_Loss', average_lose, epoch)   \n",
    "\n",
    "        \n",
    "        #delete memory\n",
    "        del result, cropResult, next_imgs\n",
    "        \n",
    "    writer.close()   \n",
    "    print(\"trainning end...\")\n",
    "\n",
    "\n"
   ]
  },
  {
   "cell_type": "code",
   "execution_count": 20,
   "id": "f1702362",
   "metadata": {},
   "outputs": [
    {
     "name": "stderr",
     "output_type": "stream",
     "text": [
      "4it [00:34,  8.56s/it]\n",
      "4it [00:32,  8.11s/it]\n",
      "4it [00:32,  8.09s/it]\n",
      "4it [00:32,  8.16s/it]\n",
      "4it [00:32,  8.13s/it]\n",
      "4it [00:32,  8.08s/it]\n",
      "4it [00:32,  8.14s/it]\n",
      "4it [00:32,  8.13s/it]\n",
      "4it [00:32,  8.10s/it]\n",
      "4it [00:32,  8.07s/it]\n",
      "4it [00:34,  8.69s/it]\n",
      "4it [00:36,  9.04s/it]\n",
      "4it [00:35,  8.88s/it]\n",
      "4it [00:35,  8.92s/it]\n",
      "4it [00:35,  8.96s/it]\n",
      "4it [00:35,  8.90s/it]\n",
      "4it [00:35,  8.80s/it]\n",
      "4it [00:35,  8.85s/it]\n",
      "4it [00:35,  8.92s/it]\n",
      "4it [00:35,  8.89s/it]\n",
      "4it [00:35,  8.88s/it]\n",
      "4it [00:35,  8.84s/it]\n",
      "4it [00:35,  8.93s/it]\n",
      "4it [00:35,  8.89s/it]\n",
      "4it [00:35,  8.84s/it]\n",
      "4it [00:35,  8.84s/it]\n",
      "4it [00:35,  8.79s/it]\n",
      "4it [00:35,  8.85s/it]\n",
      "4it [00:35,  8.88s/it]\n",
      "4it [00:35,  8.76s/it]\n",
      "4it [00:35,  8.77s/it]\n",
      "4it [00:35,  8.94s/it]\n",
      "4it [00:35,  8.95s/it]\n",
      "4it [00:35,  8.92s/it]\n",
      "4it [00:35,  8.84s/it]\n",
      "4it [00:35,  8.87s/it]\n",
      "4it [00:35,  8.94s/it]\n",
      "4it [00:35,  8.87s/it]\n",
      "4it [00:35,  8.98s/it]\n",
      "4it [00:35,  8.95s/it]\n",
      "4it [00:35,  8.88s/it]\n",
      "4it [00:35,  8.88s/it]\n",
      "4it [00:35,  8.88s/it]\n",
      "4it [00:35,  8.76s/it]\n",
      "4it [00:35,  8.82s/it]\n",
      "4it [00:35,  8.85s/it]\n",
      "4it [00:35,  8.91s/it]\n",
      "4it [00:35,  8.90s/it]\n",
      "4it [00:35,  8.85s/it]\n",
      "4it [00:35,  8.84s/it]"
     ]
    },
    {
     "name": "stdout",
     "output_type": "stream",
     "text": [
      "trainning end...\n"
     ]
    },
    {
     "name": "stderr",
     "output_type": "stream",
     "text": [
      "\n"
     ]
    }
   ],
   "source": [
    "run()"
   ]
  },
  {
   "cell_type": "code",
   "execution_count": null,
   "id": "c7503096",
   "metadata": {},
   "outputs": [],
   "source": []
  }
 ],
 "metadata": {
  "kernelspec": {
   "display_name": "Python 3 (ipykernel)",
   "language": "python",
   "name": "python3"
  },
  "language_info": {
   "codemirror_mode": {
    "name": "ipython",
    "version": 3
   },
   "file_extension": ".py",
   "mimetype": "text/x-python",
   "name": "python",
   "nbconvert_exporter": "python",
   "pygments_lexer": "ipython3",
   "version": "3.9.13"
  }
 },
 "nbformat": 4,
 "nbformat_minor": 5
}
