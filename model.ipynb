{
 "cells": [
  {
   "cell_type": "code",
   "execution_count": 6,
   "id": "0b2245aa",
   "metadata": {},
   "outputs": [],
   "source": [
    "import os\n",
    "import torch.nn as nn"
   ]
  },
  {
   "cell_type": "code",
   "execution_count": 7,
   "id": "51630211",
   "metadata": {},
   "outputs": [],
   "source": [
    "class SRResNet(nn.Module):\n",
    "    def _init_(self, num_blocks = 16):\n",
    "        \n",
    "        super(SRResNet,self).__init__()\n",
    "        \n",
    "        #in channel=3,out_channels=64\n",
    "        self.conv1 = nn.Conv2d(3,64,kernel_size=9,padding=4,padding_mode='reflect',stride=1)\n",
    "        self.relu = nn.PReLU()\n",
    "        self.res_block = nn.Sequential(*[resBlock(kernel_size=3, out_channels=64) for i in range(num_blocks)])\n",
    "        \n",
    "        self.conv2 = nn.Conv2d(64,64,kernel_size=3,stride=1,padding=1,bias=False)\n",
    "        self.bn2 = nn.BatchNorm2d(64)\n",
    "        self.relu2 = nn.PReLU()\n",
    "        \n",
    "        #subpixel convolution\n",
    "        self.subConv1 = nn.Conv2d(64,256,kernel_size=3,stride=1,padding=2,padding_mode='reflect')\n",
    "        self.shuffle1 = nn.PixelShuffle(2)\n",
    "        self. reluSub1 = nn.PReLU()\n",
    "        \n",
    "        self.subConv2 = nn.Conv2d(64,256,kernel_size=3,stride=1,padding=2,padding_mode='reflect')\n",
    "        self.shuffle2 = nn.PixelShuffle(2)\n",
    "        self. reluSub2 = nn.PReLU()\n",
    "        \n",
    "        \n",
    "        \n",
    "        #in channel=64,out_channels=3\n",
    "        self.conv3 = nn.Conv2d(64,3,kernel_size=9,stride=1,batch_norm=False,activation='Tanh')\n",
    "        \n",
    "    def forward(self, x):\n",
    "        output = self.conv1(x)\n",
    "        output = self.relu(output)\n",
    "        residual = output\n",
    "        \n",
    "        output - slef.res_block(output)\n",
    "        output = self.conv2(output)\n",
    "        output = self.bn(output)\n",
    "        output += residual\n",
    "        \n",
    "        output = self.subConv1(output)   \n",
    "        output = self.shuffle1(output)\n",
    "        output = self.reluSub1(output)\n",
    "        \n",
    "        output = self.subConv2(output)   \n",
    "        output = self.shuffle2(output)\n",
    "        output = self.reluSub2(output)\n",
    "        output = self.conv3(output)\n",
    "        \n",
    "        return output"
   ]
  },
  {
   "cell_type": "code",
   "execution_count": null,
   "id": "bf1e2462",
   "metadata": {},
   "outputs": [],
   "source": []
  }
 ],
 "metadata": {
  "kernelspec": {
   "display_name": "Python 3 (ipykernel)",
   "language": "python",
   "name": "python3"
  },
  "language_info": {
   "codemirror_mode": {
    "name": "ipython",
    "version": 3
   },
   "file_extension": ".py",
   "mimetype": "text/x-python",
   "name": "python",
   "nbconvert_exporter": "python",
   "pygments_lexer": "ipython3",
   "version": "3.9.13"
  }
 },
 "nbformat": 4,
 "nbformat_minor": 5
}
