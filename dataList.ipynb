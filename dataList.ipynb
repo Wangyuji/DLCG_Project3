{
 "cells": [
  {
   "cell_type": "code",
   "execution_count": 3,
   "id": "8a570ff5",
   "metadata": {},
   "outputs": [],
   "source": [
    "from PIL import Image\n",
    "import os\n",
    "import json"
   ]
  },
  {
   "cell_type": "code",
   "execution_count": 12,
   "id": "ad4913e2",
   "metadata": {},
   "outputs": [],
   "source": [
    "def generate_dataList(train_sets, test_sets, output):\n",
    "    print(\"Loading datasets....\")\n",
    "    train_imgs = list()\n",
    "    test_imgs = list()\n",
    "    \n",
    "    for i in train_sets:\n",
    "        for j in os.listdir(i):\n",
    "            path = os.path.join(i, j)\n",
    "           # img = Image.open(path, mode='r')    \n",
    "            train_imgs.append(path)\n",
    "    \n",
    "    print(\"size of train set %d \\n\" % len(train_imgs))\n",
    "  \n",
    "    with open(os.path.join(output, 'train_images.json'), 'w') as j:  \n",
    "        json.dump(train_imgs, j)\n",
    "        \n",
    "    for i in test_sets:\n",
    "        for j in os.listdir(i):\n",
    "            path = os.path.join(i, j)\n",
    "            test_imgs.append(path)\n",
    "            \n",
    "    print(\"size of test set %d \\n\" % len(test_imgs))\n",
    "    \n",
    "    with open(os.path.join(output, 'test_images.json'), 'w') as j:  \n",
    "        json.dump(test_imgs, j)\n",
    "    \n",
    "    print(\"Load complete\")\n",
    "    print(\"all the things save in output folder\")"
   ]
  },
  {
   "cell_type": "code",
   "execution_count": 13,
   "id": "70052b35",
   "metadata": {},
   "outputs": [
    {
     "name": "stdout",
     "output_type": "stream",
     "text": [
      "Loading datasets....\n",
      "size of train set 200 \n",
      "\n",
      "size of test set 19 \n",
      "\n",
      "Load complete\n",
      "all the things save in output folder\n"
     ]
    }
   ],
   "source": [
    "generate_dataList(train_sets=['./BSDS100', './Urban100'],\n",
    "                 test_sets=['./Set5', './Set14'],\n",
    "                 output = './output')"
   ]
  },
  {
   "cell_type": "code",
   "execution_count": null,
   "id": "9c0d5b43",
   "metadata": {},
   "outputs": [],
   "source": []
  }
 ],
 "metadata": {
  "kernelspec": {
   "display_name": "Python 3 (ipykernel)",
   "language": "python",
   "name": "python3"
  },
  "language_info": {
   "codemirror_mode": {
    "name": "ipython",
    "version": 3
   },
   "file_extension": ".py",
   "mimetype": "text/x-python",
   "name": "python",
   "nbconvert_exporter": "python",
   "pygments_lexer": "ipython3",
   "version": "3.9.13"
  }
 },
 "nbformat": 4,
 "nbformat_minor": 5
}
